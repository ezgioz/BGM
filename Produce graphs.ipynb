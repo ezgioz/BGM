{
 "cells": [
  {
   "cell_type": "markdown",
   "metadata": {},
   "source": [
    "## Define cases"
   ]
  },
  {
   "cell_type": "code",
   "execution_count": 1,
   "metadata": {},
   "outputs": [],
   "source": [
    "# Define the various scenarios\n",
    "N = 10 #Number of grids\n",
    "\n",
    "experiments = [\n",
    "    #dict(modfile='ces', freeparam='xi', range=(0.2,1.0,N)),\n",
    "    #dict(modfile='exponential', freeparam='alpha', range=(0.1,10,N)),\n",
    "    #dict(modfile='translog',  freeparam='sigma', range=(0.1,10,N)),\n",
    "    #dict(modfile ='cesds_EL', freeparam='mu', range=(1.1,2,N)),\n",
    "    #dict(modfile ='cesds_EL', freeparam='varphi', range=(0.2,10,N)),\n",
    "    #dict(modfile ='cesds_EI', freeparam='zeta', range=(0.3,0.9,N)),\n",
    "    #dict(modfile ='cesds_EI', freeparam='mu', range=(1.1,2,N)),\n",
    "    #dict(modfile ='translog_ELEI', freeparam='sigma',range=(0.242,0.35,N), fixedparam = 'varphi', value=5) ,\n",
    "    #dict(modfile ='translog_ELEI', freeparam='sigma', range=(0.23705234159779615,0.2409090909090909,N), fixedparam = 'varphi', value=0.25),\n",
    "    #dict(modfile ='translog_ELEI', freeparam='sigma', range=(0.23040863317764562,10,N), fixedparam = 'varphi', value=0.25),\n",
    "    dict(modfile ='translog_ELEI', freeparam='sigma', range=(1.2,10,N), fixedparam = 'varphi', value=0.25),\n",
    "\n",
    "]"
   ]
  },
  {
   "cell_type": "markdown",
   "metadata": {},
   "source": [
    "## Compute Welfares"
   ]
  },
  {
   "cell_type": "code",
   "execution_count": 2,
   "metadata": {},
   "outputs": [
    {
     "name": "stderr",
     "output_type": "stream",
     "text": [
      "\u001b[33mYAMLLoadWarning\u001b[0m:/home/ezgi/EconForge/dolo/dolo/compiler/recipes.py:20\n",
      "    calling yaml.load() without Loader=... is deprecated, as the default Loader is unsafe. Please read https://msg.pyyaml.org/load for full details.\n"
     ]
    },
    {
     "name": "stdout",
     "output_type": "stream",
     "text": [
      "\u001b[33mwarning\u001b[0m: 36, 1 : Symbol po has no calibrated value.\n",
      "\u001b[33mwarning\u001b[0m: 36, 1 : Symbol varphi has no calibrated value.\n",
      "model_ME_ss {'exogenous': array([0.]), 'states': array([1.        , 3.91045678, 8.63861819]), 'controls': array([  0.86592416, -51.10933627,   0.43600871]), 'parameters': array([0.99 , 0.025, 1.   , 3.8  , 0.   , 0.95 , 0.25 , 0.025, 0.66 ,\n",
      "       1.2  , 0.01 ])} model_PO_ss {'exogenous': array([0.]), 'states': array([ 1.        ,  2.9740486 , 12.72792597]), 'controls': array([  0.99581085, -40.96884209,   0.5043898 ]), 'parameters': array([0.99 , 0.025, 1.   , 3.8  , 1.   , 0.95 , 0.25 , 0.025, 0.66 ,\n",
      "       1.2  , 0.01 ])}\n"
     ]
    },
    {
     "ename": "NameError",
     "evalue": "name 'calib' is not defined",
     "output_type": "error",
     "traceback": [
      "\u001b[0;31m---------------------------------------------------------------------------\u001b[0m",
      "\u001b[0;31mNameError\u001b[0m                                 Traceback (most recent call last)",
      "\u001b[0;32m<ipython-input-2-0c8a6f798938>\u001b[0m in \u001b[0;36m<module>\u001b[0;34m\u001b[0m\n\u001b[1;32m      1\u001b[0m \u001b[0;31m# Serial evaluation -> for each case compute ce,po and welfare gains\u001b[0m\u001b[0;34m\u001b[0m\u001b[0;34m\u001b[0m\u001b[0;34m\u001b[0m\u001b[0m\n\u001b[1;32m      2\u001b[0m \u001b[0;32mfrom\u001b[0m \u001b[0mBGM_solver\u001b[0m \u001b[0;32mimport\u001b[0m \u001b[0mcompute_case\u001b[0m\u001b[0;34m\u001b[0m\u001b[0;34m\u001b[0m\u001b[0m\n\u001b[0;32m----> 3\u001b[0;31m \u001b[0mall_welfares\u001b[0m \u001b[0;34m=\u001b[0m \u001b[0;34m[\u001b[0m\u001b[0mcompute_case\u001b[0m\u001b[0;34m(\u001b[0m\u001b[0mexp\u001b[0m\u001b[0;34m)\u001b[0m \u001b[0;32mfor\u001b[0m \u001b[0mexp\u001b[0m \u001b[0;32min\u001b[0m \u001b[0mexperiments\u001b[0m\u001b[0;34m]\u001b[0m\u001b[0;34m;\u001b[0m\u001b[0;34m\u001b[0m\u001b[0;34m\u001b[0m\u001b[0m\n\u001b[0m",
      "\u001b[0;32m<ipython-input-2-0c8a6f798938>\u001b[0m in \u001b[0;36m<listcomp>\u001b[0;34m(.0)\u001b[0m\n\u001b[1;32m      1\u001b[0m \u001b[0;31m# Serial evaluation -> for each case compute ce,po and welfare gains\u001b[0m\u001b[0;34m\u001b[0m\u001b[0;34m\u001b[0m\u001b[0;34m\u001b[0m\u001b[0m\n\u001b[1;32m      2\u001b[0m \u001b[0;32mfrom\u001b[0m \u001b[0mBGM_solver\u001b[0m \u001b[0;32mimport\u001b[0m \u001b[0mcompute_case\u001b[0m\u001b[0;34m\u001b[0m\u001b[0;34m\u001b[0m\u001b[0m\n\u001b[0;32m----> 3\u001b[0;31m \u001b[0mall_welfares\u001b[0m \u001b[0;34m=\u001b[0m \u001b[0;34m[\u001b[0m\u001b[0mcompute_case\u001b[0m\u001b[0;34m(\u001b[0m\u001b[0mexp\u001b[0m\u001b[0;34m)\u001b[0m \u001b[0;32mfor\u001b[0m \u001b[0mexp\u001b[0m \u001b[0;32min\u001b[0m \u001b[0mexperiments\u001b[0m\u001b[0;34m]\u001b[0m\u001b[0;34m;\u001b[0m\u001b[0;34m\u001b[0m\u001b[0;34m\u001b[0m\u001b[0m\n\u001b[0m",
      "\u001b[0;32m~/BGM/BGM_solver.py\u001b[0m in \u001b[0;36mcompute_case\u001b[0;34m(expm)\u001b[0m\n\u001b[1;32m    121\u001b[0m                 \u001b[0mprint\u001b[0m\u001b[0;34m(\u001b[0m\u001b[0;34m'model'\u001b[0m\u001b[0;34m,\u001b[0m \u001b[0mfreeparam\u001b[0m\u001b[0;34m,\u001b[0m \u001b[0;34m'='\u001b[0m\u001b[0;34m,\u001b[0m \u001b[0mi\u001b[0m\u001b[0;34m,\u001b[0m \u001b[0;34m'--> steady state found for both models'\u001b[0m\u001b[0;34m)\u001b[0m\u001b[0;34m\u001b[0m\u001b[0;34m\u001b[0m\u001b[0m\n\u001b[1;32m    122\u001b[0m             \u001b[0;31m# Initial point at which to evaluate the welfare\u001b[0m\u001b[0;34m\u001b[0m\u001b[0;34m\u001b[0m\u001b[0;34m\u001b[0m\u001b[0m\n\u001b[0;32m--> 123\u001b[0;31m             \u001b[0meval_point\u001b[0m \u001b[0;34m=\u001b[0m \u001b[0mcalib\u001b[0m\u001b[0;34m[\u001b[0m\u001b[0;34m'states'\u001b[0m\u001b[0;34m]\u001b[0m\u001b[0;34m.\u001b[0m\u001b[0mcopy\u001b[0m\u001b[0;34m(\u001b[0m\u001b[0;34m)\u001b[0m\u001b[0;34m;\u001b[0m\u001b[0;34m\u001b[0m\u001b[0;34m\u001b[0m\u001b[0m\n\u001b[0m\u001b[1;32m    124\u001b[0m             \u001b[0;31m# Change initial value of N\u001b[0m\u001b[0;34m\u001b[0m\u001b[0;34m\u001b[0m\u001b[0;34m\u001b[0m\u001b[0m\n\u001b[1;32m    125\u001b[0m             \u001b[0meval_point\u001b[0m\u001b[0;34m[\u001b[0m\u001b[0;36m1\u001b[0m\u001b[0;34m]\u001b[0m\u001b[0;34m*=\u001b[0m\u001b[0;36m0.5\u001b[0m \u001b[0;31m# to 50 % of its of its steady-state value\u001b[0m\u001b[0;34m\u001b[0m\u001b[0;34m\u001b[0m\u001b[0m\n",
      "\u001b[0;31mNameError\u001b[0m: name 'calib' is not defined"
     ]
    }
   ],
   "source": [
    "# Serial evaluation -> for each case compute ce,po and welfare gains\n",
    "from BGM_solver import compute_case\n",
    "all_welfares = [compute_case(exp) for exp in experiments];"
   ]
  },
  {
   "cell_type": "code",
   "execution_count": null,
   "metadata": {
    "scrolled": true
   },
   "outputs": [],
   "source": [
    "import pandas #python library for tables\n",
    "# Create the table for all paramter values, ce and po welfare, gains and export to excel\n",
    "df = pandas.concat(all_welfares, axis=1)\n",
    "df.to_excel('output/welfare_gains.xls')\n",
    "\n",
    "# Uncomment the line below to see the table\n",
    "df"
   ]
  },
  {
   "cell_type": "markdown",
   "metadata": {},
   "source": [
    "## Make plots"
   ]
  },
  {
   "cell_type": "code",
   "execution_count": null,
   "metadata": {},
   "outputs": [],
   "source": [
    "from matplotlib import pyplot as plt #python library for plots\n",
    "%matplotlib inline"
   ]
  },
  {
   "cell_type": "code",
   "execution_count": null,
   "metadata": {},
   "outputs": [],
   "source": [
    "fig,ax = plt.subplots(figsize=(6,6))\n",
    "plt.plot(df['translog_ELEI_varphi025_sigma'],df['translog_ELEI_varphi025_sigma_gain'], label=\"$\\\\varphi = 0.25$\")\n",
    "#plt.plot(df['translog_ELEI_varphi5_sigma'],df['translog_ELEI_varphi5_sigma_gain'], label=\"$\\\\varphi = 5$\", linestyle='--', )\n",
    "plt.ylabel('Welfare gains (%)')\n",
    "plt.xlabel(\"$\\\\sigma/ f_{E}$\")\n",
    "#yl = plt.ylim()\n",
    "#plt.ylim(0,yl[1])\n",
    "plt.title(\"Translog, Endogenous Investment - Elastic Labor\")\n",
    "plt.grid()\n",
    "plt.legend(loc='best')\n",
    "plt.xlim(0,10)\n",
    "plt.ylim(0,40)\n",
    "\n",
    "# Exact point where sigma = 0.35 to show\n",
    "# sigma = 0.35, phi=0.25 --> welfare gains(%) 25.121546\t\n",
    "# sigma = 0.35, phi=5 --> welfare gains(%) 7.28467\n",
    "plt.axvline(x=0.35, linestyle='--', color='gray')\n",
    "#removing top and right borders\n",
    "#ax.spines['top'].set_visible(False)\n",
    "#ax.spines['right'].set_visible(False)\n",
    "\n",
    "plt.savefig('output/BGM_welfare_gains_general_model.png')\n",
    "plt.savefig('output/BGM_welfare_gains_general_model.pdf')\n",
    "plt.savefig('output/BGM_welfare_gains_general_model.svg')"
   ]
  },
  {
   "cell_type": "code",
   "execution_count": null,
   "metadata": {},
   "outputs": [],
   "source": [
    "fig = plt.figure(figsize=(6,12))\n",
    "\n",
    "plt.subplot(211)\n",
    "plt.plot(df['cesds_EL_varphi'],df['cesds_EL_varphi_gain'])\n",
    "plt.ylabel('Welfare gains (%)')\n",
    "plt.xlabel(\"$\\\\varphi$\")\n",
    "#yl = plt.ylim()\n",
    "#plt.ylim(0,yl[1])\n",
    "plt.title('C.E.S.-D.S., elastic labor')\n",
    "plt.grid()\n",
    "# xlim(4,8)\n",
    "# ylim(0,0.2)\n",
    "\n",
    "plt.subplot(212)\n",
    "plt.plot(df['cesds_EL_mu']-1,df['cesds_EL_mu_gain'])\n",
    "plt.ylabel('Welfare gains (%)')\n",
    "plt.xlabel(\"$\\\\mu-1$\")\n",
    "#yl = plt.ylim()\n",
    "#plt.ylim(0,yl[1])\n",
    "#plt.title(\"C.E.S.-DS, Elastic Labor\")\n",
    "plt.grid()\n",
    "# xlim(4,8)\n",
    "# ylim(0,0.2)\n",
    "\n",
    "plt.savefig('output/BGM_welfare_gains_EL.png')\n",
    "plt.savefig('output/BGM_welfare_gains_EL.pdf')\n",
    "plt.savefig('output/BGM_welfare_gains_EL.svg')"
   ]
  },
  {
   "cell_type": "code",
   "execution_count": null,
   "metadata": {},
   "outputs": [],
   "source": [
    "fig = plt.figure(figsize=(6,12))\n",
    "\n",
    "\n",
    "plt.subplot(211)\n",
    "plt.plot(df['cesds_EI_zeta'],df['cesds_EI_zeta_gain'])\n",
    "plt.ylabel('Welfare gains (%)')\n",
    "plt.xlabel(\"$\\\\zeta$\")\n",
    "yl = plt.ylim()\n",
    "plt.ylim(0,yl[1])\n",
    "plt.title(\"C.E.S.-D.S., Endogenous Investment - Inelastic Labor\")\n",
    "plt.grid()\n",
    "# xlim(4,8)\n",
    "# ylim(0,0.2)\n",
    "\n",
    "\n",
    "plt.subplot(212)\n",
    "plt.plot(df['cesds_EI_mu']-1,df['cesds_EI_mu_gain'])\n",
    "plt.ylabel('Welfare gains (%)')\n",
    "\n",
    "plt.xlabel(\"$\\\\mu-1$\")\n",
    "yl = plt.ylim()\n",
    "plt.ylim(0,yl[1])\n",
    "#plt.title(\"C.E.S.-DS, Endogenous Investment - Inelastic Labor\")\n",
    "plt.grid()\n",
    "# xlim(4,8)\n",
    "# ylim(0,0.2)\n",
    "\n",
    "plt.savefig('output/BGM_welfare_gains_EI.png')\n",
    "plt.savefig('output/BGM_welfare_gains_EI.pdf')\n",
    "plt.savefig('output/BGM_welfare_gains_EI.svg')"
   ]
  },
  {
   "cell_type": "code",
   "execution_count": null,
   "metadata": {},
   "outputs": [],
   "source": [
    "### Baseline model ###\n",
    "fig = plt.figure(figsize=(6,18))\n",
    "plt.subplot(311)\n",
    "plt.plot(df['ces_xi'],df['ces_xi_gain'])\n",
    "plt.ylabel('Welfare gains (%)')\n",
    "plt.xlabel(\"$\\\\xi$\")\n",
    "yl = plt.ylim()\n",
    "plt.ylim(0,yl[1])\n",
    "plt.title(\"General C.E.S.\")\n",
    "plt.grid()\n",
    "# xlim(4,8)\n",
    "# ylim(0,0.2)\n",
    "plt.subplot(312)\n",
    "plt.plot(df['exponential_alpha'],df['exponential_alpha_gain'])\n",
    "plt.grid()\n",
    "yl = plt.ylim()\n",
    "plt.ylim(0,yl[1])\n",
    "plt.title(\"Exponential\")\n",
    "plt.xlabel(\"$\\\\alpha/ f_{E}$\")\n",
    "plt.ylabel('Welfare gains (%)')\n",
    "plt.subplot(313)\n",
    "plt.plot(df['translog_sigma'],df['translog_sigma_gain'])\n",
    "plt.grid()\n",
    "yl = plt.ylim()\n",
    "plt.ylim(0,yl[1])\n",
    "plt.title(\"Translog\")\n",
    "plt.xlabel(\"$\\\\sigma/ f_{E}$\")\n",
    "plt.ylabel('Welfare gains (%)')\n",
    "plt.savefig('output/BGM_welfare_gains.png')\n",
    "plt.savefig('output/BGM_welfare_gains.pdf')\n",
    "plt.savefig('output/BGM_welfare_gains.svg')\n"
   ]
  }
 ],
 "metadata": {
  "kernelspec": {
   "display_name": "Python 3",
   "language": "python",
   "name": "python3"
  },
  "language_info": {
   "codemirror_mode": {
    "name": "ipython",
    "version": 3
   },
   "file_extension": ".py",
   "mimetype": "text/x-python",
   "name": "python",
   "nbconvert_exporter": "python",
   "pygments_lexer": "ipython3",
   "version": "3.7.3"
  },
  "widgets": {
   "state": {},
   "version": "1.0.0"
  }
 },
 "nbformat": 4,
 "nbformat_minor": 1
}
